{
 "cells": [
  {
   "attachments": {},
   "cell_type": "markdown",
   "metadata": {},
   "source": [
    "## CLUT"
   ]
  },
  {
   "cell_type": "code",
   "execution_count": 100,
   "metadata": {},
   "outputs": [
    {
     "name": "stdout",
     "output_type": "stream",
     "text": [
      "num_comp 3\n",
      "lut_size 8\n",
      "[2, 1, 2, 1, 2, 2, 0, 0]\n"
     ]
    }
   ],
   "source": [
    "import operator as op\n",
    "from functools import reduce\n",
    "\n",
    "def ncr(n, r):\n",
    "    r = min(r, n-r)\n",
    "    numer = reduce(op.mul, range(n, n-r, -1), 1)\n",
    "    denom = reduce(op.mul, range(1, r+1), 1)\n",
    "    return numer // denom  \n",
    "\n",
    "# generate the look-up table content of CLUT\n",
    "\n",
    "# Each bit (0,1) is the comparator_{i,j} result, where i<j<Fo\n",
    "# The comparator compares i^th and j^th number, if i^th<j^th, comparator result is 0; otherwise 1.\n",
    "# input: comparator results\n",
    "Fo=3\n",
    "num_comp=ncr(Fo,2)\n",
    "print(\"num_comp\",num_comp)\n",
    "lut_size=2**ncr(Fo,2)\n",
    "print(\"lut_size\",lut_size)\n",
    "comparator_results=[0]*num_comp\n",
    "\n",
    "def argmax_using_comparator_results(comparator_results):\n",
    "    scratch_array=[]\n",
    "    for i in range(Fo): #i means i^th number in the uct array, it is just an index, not the actual value\n",
    "        if (len(scratch_array)==0):\n",
    "#             print(\"appendeding i=\",i)\n",
    "            scratch_array.append(i)\n",
    "        else:\n",
    "            #compare i^th number to every j^th number, for all j in scracth_array\n",
    "            for j in scratch_array:\n",
    "                j_idx=scratch_array.index(j)     \n",
    "                cnt=int(j*(Fo)+i-((j+1)*(j+2)/2))\n",
    "#                 print(\"comparing\",j,i,\"cnt=\",cnt)\n",
    "                if (comparator_results[cnt]==0): #j>i, i should be inserted before j\n",
    "#                     print(\"Inserting\",i,\"to index\",j_idx)\n",
    "#                     print(j,\"<\",i)\n",
    "                    scratch_array.insert(j_idx, i)\n",
    "                    break\n",
    "                elif (comparator_results[cnt]==1 and scratch_array.index(j)==len(scratch_array)-1): #i>j, i should be isnerted right after\n",
    "#                     print(\"Inserting\",i,\"to index\",scratch_array.index(j)+1)\n",
    "                    scratch_array.insert(j_idx+1, i)\n",
    "#                     print(j,\">\",i)\n",
    "                    break\n",
    "                else: #i>j, i should be isnerted after j but may not right after. check the next j.\n",
    "                    continue\n",
    "#     print(\"scratch_array\",scratch_array)\n",
    "    return scratch_array[0] #the last is the largest, the first is the smallest\n",
    "\n",
    "clut_init_array=[]\n",
    "for i in range(2**num_comp):\n",
    "    binary_comb=list(bin(i)[2:])\n",
    "    for i in range(len(binary_comb)):\n",
    "        binary_comb[i]=int(binary_comb[i]) \n",
    "    while (len(binary_comb)<num_comp): #complete all bits\n",
    "        binary_comb.insert(0,0)\n",
    "#     print(\"Input binary_comb:\",binary_comb)\n",
    "#     print (argmax_using_comparator_results(binary_comb))\n",
    "    clut_init_array.append(argmax_using_comparator_results(binary_comb))\n",
    "#  clut_init_array content is the init array to be populated in HLS host code   \n",
    "\n",
    "print(clut_init_array)"
   ]
  },
  {
   "cell_type": "code",
   "execution_count": 101,
   "metadata": {},
   "outputs": [],
   "source": []
  },
  {
   "cell_type": "code",
   "execution_count": null,
   "metadata": {},
   "outputs": [],
   "source": []
  },
  {
   "cell_type": "code",
   "execution_count": null,
   "metadata": {},
   "outputs": [],
   "source": []
  }
 ],
 "metadata": {
  "kernelspec": {
   "display_name": "Python 3",
   "language": "python",
   "name": "python3"
  },
  "language_info": {
   "codemirror_mode": {
    "name": "ipython",
    "version": 3
   },
   "file_extension": ".py",
   "mimetype": "text/x-python",
   "name": "python",
   "nbconvert_exporter": "python",
   "pygments_lexer": "ipython3",
   "version": "3.7.4"
  }
 },
 "nbformat": 4,
 "nbformat_minor": 2
}
